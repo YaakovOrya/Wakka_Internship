{
  "nbformat": 4,
  "nbformat_minor": 0,
  "metadata": {
    "colab": {
      "provenance": [],
      "collapsed_sections": [
        "fyMSkgAThVZV",
        "M-ECcPtLf2Xn"
      ]
    },
    "kernelspec": {
      "name": "python3",
      "display_name": "Python 3"
    },
    "language_info": {
      "name": "python"
    }
  },
  "cells": [
    {
      "cell_type": "markdown",
      "source": [
        "###Importing necessary libraries"
      ],
      "metadata": {
        "id": "fyMSkgAThVZV"
      }
    },
    {
      "cell_type": "code",
      "source": [
        "import numpy as np\n",
        "import tensorflow as tf\n",
        "import matplotlib.pyplot as plt\n",
        "from sklearn.model_selection import train_test_split\n",
        "import time\n"
      ],
      "metadata": {
        "id": "AisEJ7Pvhg7h"
      },
      "execution_count": null,
      "outputs": []
    },
    {
      "cell_type": "markdown",
      "source": [
        "### Creating the fake data\n"
      ],
      "metadata": {
        "id": "I-_JYpDNZPZ2"
      }
    },
    {
      "cell_type": "code",
      "source": [
        "np.random.seed(42)\n",
        "\n",
        "\n",
        "def create_fake_data(num_samples,num_features):\n",
        "\n",
        "  X = np.random.rand(num_samples,num_features)\n",
        "\n",
        "  # make b_ij and C_ij ∈ [-1,1]  ∀ i,j\n",
        "\n",
        "  b= np.random.rand(num_features)\n",
        "  b=2*b -1\n",
        "\n",
        "  C = np.random.rand(num_features,num_features)\n",
        "  C = 2*C -1\n",
        "\n",
        "  n = X.shape[0]\n",
        "  m = X.shape[1]\n",
        "  Y = np.zeros(n)\n",
        "\n",
        "\n",
        "  for i in range(n):\n",
        "      dot_product = np.dot(X[i], b)\n",
        "      weighted_sum = np.sum(np.outer(X[i], X[i]) * C)\n",
        "      Y[i] = dot_product + weighted_sum\n",
        "\n",
        "\n",
        "\n",
        "  Y_min = np.min(Y)\n",
        "  Y_max = np.max(Y)\n",
        "\n",
        "  Y_scaled = (Y - Y_min) / (Y_max-Y_min)\n",
        "  Y_scaled = 2*Y_scaled -1\n",
        "\n",
        "\n",
        "  #Adding random noise from the uniform distribution\n",
        "\n",
        "  noise  = np.random.uniform(-0.1,0.1,size =len(Y))\n",
        "\n",
        "  Y_scaled_with_noise = Y_scaled+noise\n",
        "\n",
        "\n",
        "  return X, Y_scaled_with_noise\n",
        "\n",
        "\n",
        "\n",
        "\n",
        "X,Y = create_fake_data(10000,15)\n",
        "\n",
        "\n",
        "\n",
        "\n"
      ],
      "metadata": {
        "id": "fvITR-XiZLWw"
      },
      "execution_count": null,
      "outputs": []
    },
    {
      "cell_type": "markdown",
      "source": [
        "### Data checking\n"
      ],
      "metadata": {
        "id": "0m9xuuiTdD1B"
      }
    },
    {
      "cell_type": "code",
      "source": [
        "X"
      ],
      "metadata": {
        "colab": {
          "base_uri": "https://localhost:8080/"
        },
        "id": "wmRxkTUtdIXD",
        "outputId": "b727bddd-3132-4faa-d91a-e9d049cf77f7"
      },
      "execution_count": null,
      "outputs": [
        {
          "output_type": "execute_result",
          "data": {
            "text/plain": [
              "array([[0.37454012, 0.95071431, 0.73199394, ..., 0.83244264, 0.21233911,\n",
              "        0.18182497],\n",
              "       [0.18340451, 0.30424224, 0.52475643, ..., 0.51423444, 0.59241457,\n",
              "        0.04645041],\n",
              "       [0.60754485, 0.17052412, 0.06505159, ..., 0.03438852, 0.9093204 ,\n",
              "        0.25877998],\n",
              "       ...,\n",
              "       [0.73954394, 0.40129732, 0.25106086, ..., 0.04927807, 0.97416234,\n",
              "        0.3840696 ],\n",
              "       [0.27147308, 0.58976612, 0.90266196, ..., 0.40858045, 0.33912366,\n",
              "        0.40834322],\n",
              "       [0.86786314, 0.82778543, 0.96264237, ..., 0.19611519, 0.23209371,\n",
              "        0.38049601]])"
            ]
          },
          "metadata": {},
          "execution_count": 316
        }
      ]
    },
    {
      "cell_type": "code",
      "source": [
        "Y\n"
      ],
      "metadata": {
        "colab": {
          "base_uri": "https://localhost:8080/"
        },
        "id": "f2zLGNL9dIU5",
        "outputId": "13d53354-c70f-480b-a1e7-16fc397ed43f"
      },
      "execution_count": null,
      "outputs": [
        {
          "output_type": "execute_result",
          "data": {
            "text/plain": [
              "array([-0.6125842 ,  0.01821779,  0.00133631, ..., -0.17457979,\n",
              "        0.1214358 , -0.14505835])"
            ]
          },
          "metadata": {},
          "execution_count": 317
        }
      ]
    },
    {
      "cell_type": "code",
      "source": [
        "X.shape\n"
      ],
      "metadata": {
        "colab": {
          "base_uri": "https://localhost:8080/"
        },
        "id": "Hl13qIyedIS6",
        "outputId": "3ec346f8-5172-4a10-90ce-c0ca43c54215"
      },
      "execution_count": null,
      "outputs": [
        {
          "output_type": "execute_result",
          "data": {
            "text/plain": [
              "(10000, 15)"
            ]
          },
          "metadata": {},
          "execution_count": 318
        }
      ]
    },
    {
      "cell_type": "code",
      "source": [
        "Y.shape\n"
      ],
      "metadata": {
        "colab": {
          "base_uri": "https://localhost:8080/"
        },
        "id": "cnw2LK-odIQq",
        "outputId": "241ad791-d159-4f62-eef0-34d3680c5258"
      },
      "execution_count": null,
      "outputs": [
        {
          "output_type": "execute_result",
          "data": {
            "text/plain": [
              "(10000,)"
            ]
          },
          "metadata": {},
          "execution_count": 319
        }
      ]
    },
    {
      "cell_type": "code",
      "source": [
        "#random_state is used to shuffle the data before splitting it into training and testing sets.\n",
        "#splitting the data , 60% for training and the rest 40% for test and validation.\n",
        "\n",
        "X_train, X_temp, Y_train, Y_temp = train_test_split(X, Y, test_size=0.2, random_state=42)\n",
        "X_val, X_test, Y_val, Y_test = train_test_split(X_temp, Y_temp, test_size=0.5, random_state=42)\n"
      ],
      "metadata": {
        "id": "VzC3CrL5dIOR"
      },
      "execution_count": null,
      "outputs": []
    },
    {
      "cell_type": "code",
      "source": [
        "X_train.shape,Y_train.shape\n"
      ],
      "metadata": {
        "colab": {
          "base_uri": "https://localhost:8080/"
        },
        "id": "tCCjzOpidO_f",
        "outputId": "f83a5846-ba25-46c1-b9cc-b736ad3ce3d8"
      },
      "execution_count": null,
      "outputs": [
        {
          "output_type": "execute_result",
          "data": {
            "text/plain": [
              "((8000, 15), (8000,))"
            ]
          },
          "metadata": {},
          "execution_count": 321
        }
      ]
    },
    {
      "cell_type": "code",
      "source": [
        "X_val.shape,Y_val.shape\n"
      ],
      "metadata": {
        "colab": {
          "base_uri": "https://localhost:8080/"
        },
        "id": "WguhlIatdO9N",
        "outputId": "b52dd4b2-8845-4eb2-9193-36caed7f9cd5"
      },
      "execution_count": null,
      "outputs": [
        {
          "output_type": "execute_result",
          "data": {
            "text/plain": [
              "((1000, 15), (1000,))"
            ]
          },
          "metadata": {},
          "execution_count": 322
        }
      ]
    },
    {
      "cell_type": "code",
      "source": [
        "X_test.shape , Y_test.shape"
      ],
      "metadata": {
        "colab": {
          "base_uri": "https://localhost:8080/"
        },
        "id": "0qa8keuedO7O",
        "outputId": "125bb824-0eb2-4db5-f75f-56c8df15c3da"
      },
      "execution_count": null,
      "outputs": [
        {
          "output_type": "execute_result",
          "data": {
            "text/plain": [
              "((1000, 15), (1000,))"
            ]
          },
          "metadata": {},
          "execution_count": 323
        }
      ]
    },
    {
      "cell_type": "markdown",
      "source": [
        "### The model"
      ],
      "metadata": {
        "id": "sw1KynHieb6r"
      }
    },
    {
      "cell_type": "code",
      "source": [
        "from tensorflow.keras.models import Sequential\n",
        "from tensorflow.keras.layers import Dense\n",
        "from tensorflow.keras import regularizers\n",
        "from tensorflow.keras.optimizers import Adam"
      ],
      "metadata": {
        "id": "ktMN2oHIfbbf"
      },
      "execution_count": null,
      "outputs": []
    },
    {
      "cell_type": "code",
      "source": [
        "#Regularization parameter\n",
        "lmbda = 0\n",
        "\n",
        "# We use linear activation functoin at the output layer so the model would be able to predict also negative values.\n",
        "\n",
        "model = Sequential([\n",
        "    Dense(units=128, input_shape=(X_train.shape[1],), activation='relu', kernel_regularizer=regularizers.l2(lmbda)),\n",
        "    Dense(units=64, activation='relu', kernel_regularizer=regularizers.l2(lmbda)),\n",
        "    Dense(units=1, activation='linear', kernel_regularizer=regularizers.l2(lmbda)),\n",
        "])\n"
      ],
      "metadata": {
        "id": "5W5z60F9fbZK"
      },
      "execution_count": null,
      "outputs": []
    },
    {
      "cell_type": "code",
      "source": [
        "model.compile(optimizer=Adam(learning_rate=0.000008), loss=\"mean_squared_error\")"
      ],
      "metadata": {
        "id": "KYmyz3P9fbWq"
      },
      "execution_count": null,
      "outputs": []
    },
    {
      "cell_type": "code",
      "source": [
        "#These lines create empty lists train_accuracies ,val_accuracies and loss to store training and validation accuracies,and the loss as well.\n",
        "\n",
        "train_accuracies = []\n",
        "val_accuracies = []\n",
        "train_losses = []\n"
      ],
      "metadata": {
        "id": "2dA-SIMDfbTy"
      },
      "execution_count": null,
      "outputs": []
    },
    {
      "cell_type": "code",
      "source": [
        "# We consider a good prediction if | y_pred - y_real | <= 0.2\n",
        "threshold = 0.2"
      ],
      "metadata": {
        "id": "xskGPMGRtmDJ"
      },
      "execution_count": null,
      "outputs": []
    },
    {
      "cell_type": "code",
      "source": [
        "\n",
        "num_of_epochs =12\n",
        "\n",
        "\n",
        "start_time = time.time()\n",
        "\n",
        "for epoch in range(num_of_epochs):\n",
        "\n",
        "    history = model.fit(X_train, Y_train, validation_data=(X_val, Y_val), epochs=1, verbose=0)\n",
        "\n",
        "    Y_pred_train = model.predict(X_train)\n",
        "    # Evaluate predictions at each epoch\n",
        "    correct__test_pred = 0\n",
        "    for i in range(len(Y_train)):\n",
        "       if np.abs(Y_train[i] - Y_pred_train[i]) <=threshold:\n",
        "            correct__test_pred +=1\n",
        "    train_accuracy = correct__test_pred / len(Y_train)\n",
        "    train_accuracies.append(train_accuracy)\n",
        "\n",
        "\n",
        "    train_loss = history.history['loss'][0]\n",
        "    train_losses.append(train_loss)\n",
        "\n",
        "\n",
        "\n",
        "\n",
        "    Y_pred_val = model.predict(X_val)\n",
        "    # Evaluate validation predictions\n",
        "    correct_val_pred = 0\n",
        "    for i in range(len(Y_val)):\n",
        "        if np.abs(Y_val[i] - Y_pred_val[i]) <= threshold:\n",
        "          correct_val_pred +=1\n",
        "\n",
        "    val_accuracy = correct_val_pred / len(Y_val)\n",
        "    val_accuracies.append(val_accuracy)\n",
        "\n",
        "    print(f\"Epoch {epoch + 1}/{num_of_epochs} - \"\n",
        "                 f\"Training Accuracy: {train_accuracy * 100:.2f}% - \"\n",
        "                 f\"Validation Accuracy: {val_accuracy * 100:.2f}%\")\n",
        "\n",
        "\n",
        "\n"
      ],
      "metadata": {
        "id": "g2A5z245ZLSL",
        "colab": {
          "base_uri": "https://localhost:8080/"
        },
        "outputId": "2703c6da-5233-46c4-ed32-0ec9111506e7"
      },
      "execution_count": null,
      "outputs": [
        {
          "output_type": "stream",
          "name": "stdout",
          "text": [
            "250/250 [==============================] - 0s 1ms/step\n",
            "32/32 [==============================] - 0s 1ms/step\n",
            "Epoch 1/12 - Training Accuracy: 52.01% - Validation Accuracy: 52.20%\n",
            "250/250 [==============================] - 1s 2ms/step\n",
            "32/32 [==============================] - 0s 1ms/step\n",
            "Epoch 2/12 - Training Accuracy: 55.25% - Validation Accuracy: 55.60%\n",
            "250/250 [==============================] - 0s 1ms/step\n",
            "32/32 [==============================] - 0s 1ms/step\n",
            "Epoch 3/12 - Training Accuracy: 58.14% - Validation Accuracy: 59.00%\n",
            "250/250 [==============================] - 0s 1ms/step\n",
            "32/32 [==============================] - 0s 1ms/step\n",
            "Epoch 4/12 - Training Accuracy: 61.38% - Validation Accuracy: 61.40%\n",
            "250/250 [==============================] - 0s 2ms/step\n",
            "32/32 [==============================] - 0s 2ms/step\n",
            "Epoch 5/12 - Training Accuracy: 64.88% - Validation Accuracy: 64.80%\n",
            "250/250 [==============================] - 0s 2ms/step\n",
            "32/32 [==============================] - 0s 2ms/step\n",
            "Epoch 6/12 - Training Accuracy: 68.40% - Validation Accuracy: 68.90%\n",
            "250/250 [==============================] - 1s 2ms/step\n",
            "32/32 [==============================] - 0s 2ms/step\n",
            "Epoch 7/12 - Training Accuracy: 72.32% - Validation Accuracy: 73.20%\n",
            "250/250 [==============================] - 1s 2ms/step\n",
            "32/32 [==============================] - 0s 2ms/step\n",
            "Epoch 8/12 - Training Accuracy: 76.53% - Validation Accuracy: 76.80%\n",
            "250/250 [==============================] - 0s 1ms/step\n",
            "32/32 [==============================] - 0s 1ms/step\n",
            "Epoch 9/12 - Training Accuracy: 80.15% - Validation Accuracy: 82.10%\n",
            "250/250 [==============================] - 0s 2ms/step\n",
            "32/32 [==============================] - 0s 2ms/step\n",
            "Epoch 10/12 - Training Accuracy: 83.65% - Validation Accuracy: 86.10%\n",
            "250/250 [==============================] - 0s 2ms/step\n",
            "32/32 [==============================] - 0s 1ms/step\n",
            "Epoch 11/12 - Training Accuracy: 86.83% - Validation Accuracy: 88.70%\n",
            "250/250 [==============================] - 0s 1ms/step\n",
            "32/32 [==============================] - 0s 1ms/step\n",
            "Epoch 12/12 - Training Accuracy: 89.45% - Validation Accuracy: 90.80%\n"
          ]
        }
      ]
    },
    {
      "cell_type": "code",
      "source": [
        "end_time = time.time()\n",
        "running_time_in_sec = round(end_time-start_time , 2)\n",
        "print(f\"Model runnning time in min = {round(running_time_in_sec/60,2)}\")\n"
      ],
      "metadata": {
        "id": "JDYd8UE6gbJk",
        "colab": {
          "base_uri": "https://localhost:8080/"
        },
        "outputId": "6743b259-6877-497c-a9e6-a2e7a5b07801"
      },
      "execution_count": null,
      "outputs": [
        {
          "output_type": "stream",
          "name": "stdout",
          "text": [
            "Model runnning time in min = 0.39\n"
          ]
        }
      ]
    },
    {
      "cell_type": "markdown",
      "source": [
        "### Plots"
      ],
      "metadata": {
        "id": "XuGj6ndBKnak"
      }
    },
    {
      "cell_type": "code",
      "source": [
        "    plt.figure(figsize=(10, 8))\n",
        "\n",
        "    plt.subplot(2, 1, 1)\n",
        "    plt.plot(train_accuracies, label='Training Accuracy')\n",
        "    plt.plot(val_accuracies, label='Validation Accuracy')\n",
        "    plt.xlabel('Epochs')\n",
        "    plt.ylabel('Accuracy')\n",
        "    plt.legend()\n",
        "    plt.show()\n"
      ],
      "metadata": {
        "id": "A1xemkSJK0Ab",
        "colab": {
          "base_uri": "https://localhost:8080/",
          "height": 360
        },
        "outputId": "62145819-9a39-4a3d-f044-0cb8b4695e75"
      },
      "execution_count": null,
      "outputs": [
        {
          "output_type": "display_data",
          "data": {
            "text/plain": [
              "<Figure size 1000x800 with 1 Axes>"
            ],
            "image/png": "[encoded data removed]"
          },
          "metadata": {}
        }
      ]
    },
    {
      "cell_type": "code",
      "source": [
        "\n",
        "    plt.plot(train_losses, label='Training Loss')\n",
        "    plt.xlabel('Epochs')\n",
        "    plt.ylabel('Loss')\n",
        "    plt.legend()\n",
        "    plt.show()\n",
        "\n"
      ],
      "metadata": {
        "id": "RIPnlq2gZLQm",
        "colab": {
          "base_uri": "https://localhost:8080/",
          "height": 453
        },
        "outputId": "642c1c6e-4c3c-4527-feff-64b8b30d33dc"
      },
      "execution_count": null,
      "outputs": [
        {
          "output_type": "display_data",
          "data": {
            "text/plain": [
              "<Figure size 640x480 with 1 Axes>"
            ],
            "image/png": "[encoded data removed]"
          },
          "metadata": {}
        }
      ]
    },
    {
      "cell_type": "markdown",
      "source": [
        "### Testing out model on unseen data\n"
      ],
      "metadata": {
        "id": "M-ECcPtLf2Xn"
      }
    },
    {
      "cell_type": "code",
      "source": [
        "test_predictions = model.predict(X_test)\n",
        "correct_pred_test = 0\n",
        "\n",
        "for i in range(len(Y_test)):\n",
        "    if np.abs(Y_test[i] - test_predictions[i]) <= threshold:\n",
        "        correct_pred_test += 1\n",
        "\n",
        "total_examples_test = len(Y_test)\n",
        "test_accuracy = correct_pred_test / total_examples_test\n",
        "\n",
        "print(f\"Test Accuracy: {test_accuracy:.2%}\")"
      ],
      "metadata": {
        "id": "rBaE6n6-ZLOY",
        "colab": {
          "base_uri": "https://localhost:8080/"
        },
        "outputId": "3c9fcec3-22fc-4c64-83cb-81823805494e"
      },
      "execution_count": null,
      "outputs": [
        {
          "output_type": "stream",
          "name": "stdout",
          "text": [
            "32/32 [==============================] - 0s 1ms/step\n",
            "Test Accuracy: 89.00%\n"
          ]
        }
      ]
    },
    {
      "cell_type": "code",
      "source": [
        "test_predictions = test_predictions.flatten()\n",
        "Y_test = Y_test.flatten()"
      ],
      "metadata": {
        "id": "PXqA2XF9nuUX"
      },
      "execution_count": null,
      "outputs": []
    },
    {
      "cell_type": "code",
      "source": [
        "#comparing Y_predicted vs Y_test_real\n",
        "\n",
        "import pandas as pd\n",
        "df = pd.DataFrame({'Y_predicted': test_predictions, 'Y_test_real': Y_test})\n",
        "df"
      ],
      "metadata": {
        "id": "1fD66iQPnTL1",
        "colab": {
          "base_uri": "https://localhost:8080/",
          "height": 419
        },
        "outputId": "6c08885a-8ada-4342-d0c4-7a6df90b5b2b"
      },
      "execution_count": null,
      "outputs": [
        {
          "output_type": "execute_result",
          "data": {
            "text/plain": [
              "     Y_predicted  Y_test_real\n",
              "0      -0.089112    -0.119982\n",
              "1      -0.135515    -0.213759\n",
              "2       0.214103     0.206531\n",
              "3       0.007839     0.063168\n",
              "4      -0.133513    -0.257108\n",
              "..           ...          ...\n",
              "995     0.212025     0.268313\n",
              "996     0.041510     0.032262\n",
              "997    -0.141994    -0.164244\n",
              "998     0.001530     0.021834\n",
              "999     0.143833     0.121867\n",
              "\n",
              "[1000 rows x 2 columns]"
            ],
            "text/html": [
              "\n",
              "  <div id=\"df-9efcc00c-3622-4c3f-bb52-5f46d97a23ae\" class=\"colab-df-container\">\n",
              "    <div>\n",
              "<style scoped>\n",
              "    .dataframe tbody tr th:only-of-type {\n",
              "        vertical-align: middle;\n",
              "    }\n",
              "\n",
              "    .dataframe tbody tr th {\n",
              "        vertical-align: top;\n",
              "    }\n",
              "\n",
              "    .dataframe thead th {\n",
              "        text-align: right;\n",
              "    }\n",
              "</style>\n",
              "<table border=\"1\" class=\"dataframe\">\n",
              "  <thead>\n",
              "    <tr style=\"text-align: right;\">\n",
              "      <th></th>\n",
              "      <th>Y_predicted</th>\n",
              "      <th>Y_test_real</th>\n",
              "    </tr>\n",
              "  </thead>\n",
              "  <tbody>\n",
              "    <tr>\n",
              "      <th>0</th>\n",
              "      <td>-0.089112</td>\n",
              "      <td>-0.119982</td>\n",
              "    </tr>\n",
              "    <tr>\n",
              "      <th>1</th>\n",
              "      <td>-0.135515</td>\n",
              "      <td>-0.213759</td>\n",
              "    </tr>\n",
              "    <tr>\n",
              "      <th>2</th>\n",
              "      <td>0.214103</td>\n",
              "      <td>0.206531</td>\n",
              "    </tr>\n",
              "    <tr>\n",
              "      <th>3</th>\n",
              "      <td>0.007839</td>\n",
              "      <td>0.063168</td>\n",
              "    </tr>\n",
              "    <tr>\n",
              "      <th>4</th>\n",
              "      <td>-0.133513</td>\n",
              "      <td>-0.257108</td>\n",
              "    </tr>\n",
              "    <tr>\n",
              "      <th>...</th>\n",
              "      <td>...</td>\n",
              "      <td>...</td>\n",
              "    </tr>\n",
              "    <tr>\n",
              "      <th>995</th>\n",
              "      <td>0.212025</td>\n",
              "      <td>0.268313</td>\n",
              "    </tr>\n",
              "    <tr>\n",
              "      <th>996</th>\n",
              "      <td>0.041510</td>\n",
              "      <td>0.032262</td>\n",
              "    </tr>\n",
              "    <tr>\n",
              "      <th>997</th>\n",
              "      <td>-0.141994</td>\n",
              "      <td>-0.164244</td>\n",
              "    </tr>\n",
              "    <tr>\n",
              "      <th>998</th>\n",
              "      <td>0.001530</td>\n",
              "      <td>0.021834</td>\n",
              "    </tr>\n",
              "    <tr>\n",
              "      <th>999</th>\n",
              "      <td>0.143833</td>\n",
              "      <td>0.121867</td>\n",
              "    </tr>\n",
              "  </tbody>\n",
              "</table>\n",
              "<p>1000 rows × 2 columns</p>\n",
              "</div>\n",
              "    <div class=\"colab-df-buttons\">\n",
              "\n",
              "  <div class=\"colab-df-container\">\n",
              "    <button class=\"colab-df-convert\" onclick=\"convertToInteractive('df-9efcc00c-3622-4c3f-bb52-5f46d97a23ae')\"\n",
              "            title=\"Convert this dataframe to an interactive table.\"\n",
              "            style=\"display:none;\">\n",
              "\n",
              "  <svg xmlns=\"http://www.w3.org/2000/svg\" height=\"24px\" viewBox=\"0 -960 960 960\">\n",
              "    <path d=\"M120-120v-720h720v720H120Zm60-500h600v-160H180v160Zm220 220h160v-160H400v160Zm0 220h160v-160H400v160ZM180-400h160v-160H180v160Zm440 0h160v-160H620v160ZM180-180h160v-160H180v160Zm440 0h160v-160H620v160Z\"/>\n",
              "  </svg>\n",
              "    </button>\n",
              "\n",
              "  <style>\n",
              "    .colab-df-container {\n",
              "      display:flex;\n",
              "      gap: 12px;\n",
              "    }\n",
              "\n",
              "    .colab-df-convert {\n",
              "      background-color: #E8F0FE;\n",
              "      border: none;\n",
              "      border-radius: 50%;\n",
              "      cursor: pointer;\n",
              "      display: none;\n",
              "      fill: #1967D2;\n",
              "      height: 32px;\n",
              "      padding: 0 0 0 0;\n",
              "      width: 32px;\n",
              "    }\n",
              "\n",
              "    .colab-df-convert:hover {\n",
              "      background-color: #E2EBFA;\n",
              "      box-shadow: 0px 1px 2px rgba(60, 64, 67, 0.3), 0px 1px 3px 1px rgba(60, 64, 67, 0.15);\n",
              "      fill: #174EA6;\n",
              "    }\n",
              "\n",
              "    .colab-df-buttons div {\n",
              "      margin-bottom: 4px;\n",
              "    }\n",
              "\n",
              "    [theme=dark] .colab-df-convert {\n",
              "      background-color: #3B4455;\n",
              "      fill: #D2E3FC;\n",
              "    }\n",
              "\n",
              "    [theme=dark] .colab-df-convert:hover {\n",
              "      background-color: #434B5C;\n",
              "      box-shadow: 0px 1px 3px 1px rgba(0, 0, 0, 0.15);\n",
              "      filter: drop-shadow(0px 1px 2px rgba(0, 0, 0, 0.3));\n",
              "      fill: #FFFFFF;\n",
              "    }\n",
              "  </style>\n",
              "\n",
              "    <script>\n",
              "      const buttonEl =\n",
              "        document.querySelector('#df-9efcc00c-3622-4c3f-bb52-5f46d97a23ae button.colab-df-convert');\n",
              "      buttonEl.style.display =\n",
              "        google.colab.kernel.accessAllowed ? 'block' : 'none';\n",
              "\n",
              "      async function convertToInteractive(key) {\n",
              "        const element = document.querySelector('#df-9efcc00c-3622-4c3f-bb52-5f46d97a23ae');\n",
              "        const dataTable =\n",
              "          await google.colab.kernel.invokeFunction('convertToInteractive',\n",
              "                                                    [key], {});\n",
              "        if (!dataTable) return;\n",
              "\n",
              "        const docLinkHtml = 'Like what you see? Visit the ' +\n",
              "          '<a target=\"_blank\" href=https://colab.research.google.com/notebooks/data_table.ipynb>data table notebook</a>'\n",
              "          + ' to learn more about interactive tables.';\n",
              "        element.innerHTML = '';\n",
              "        dataTable['output_type'] = 'display_data';\n",
              "        await google.colab.output.renderOutput(dataTable, element);\n",
              "        const docLink = document.createElement('div');\n",
              "        docLink.innerHTML = docLinkHtml;\n",
              "        element.appendChild(docLink);\n",
              "      }\n",
              "    </script>\n",
              "  </div>\n",
              "\n",
              "\n",
              "<div id=\"df-3566a541-e737-4c61-9213-652ecedaafe5\">\n",
              "  <button class=\"colab-df-quickchart\" onclick=\"quickchart('df-3566a541-e737-4c61-9213-652ecedaafe5')\"\n",
              "            title=\"Suggest charts\"\n",
              "            style=\"display:none;\">\n",
              "\n",
              "<svg xmlns=\"http://www.w3.org/2000/svg\" height=\"24px\"viewBox=\"0 0 24 24\"\n",
              "     width=\"24px\">\n",
              "    <g>\n",
              "        <path d=\"M19 3H5c-1.1 0-2 .9-2 2v14c0 1.1.9 2 2 2h14c1.1 0 2-.9 2-2V5c0-1.1-.9-2-2-2zM9 17H7v-7h2v7zm4 0h-2V7h2v10zm4 0h-2v-4h2v4z\"/>\n",
              "    </g>\n",
              "</svg>\n",
              "  </button>\n",
              "\n",
              "<style>\n",
              "  .colab-df-quickchart {\n",
              "      --bg-color: #E8F0FE;\n",
              "      --fill-color: #1967D2;\n",
              "      --hover-bg-color: #E2EBFA;\n",
              "      --hover-fill-color: #174EA6;\n",
              "      --disabled-fill-color: #AAA;\n",
              "      --disabled-bg-color: #DDD;\n",
              "  }\n",
              "\n",
              "  [theme=dark] .colab-df-quickchart {\n",
              "      --bg-color: #3B4455;\n",
              "      --fill-color: #D2E3FC;\n",
              "      --hover-bg-color: #434B5C;\n",
              "      --hover-fill-color: #FFFFFF;\n",
              "      --disabled-bg-color: #3B4455;\n",
              "      --disabled-fill-color: #666;\n",
              "  }\n",
              "\n",
              "  .colab-df-quickchart {\n",
              "    background-color: var(--bg-color);\n",
              "    border: none;\n",
              "    border-radius: 50%;\n",
              "    cursor: pointer;\n",
              "    display: none;\n",
              "    fill: var(--fill-color);\n",
              "    height: 32px;\n",
              "    padding: 0;\n",
              "    width: 32px;\n",
              "  }\n",
              "\n",
              "  .colab-df-quickchart:hover {\n",
              "    background-color: var(--hover-bg-color);\n",
              "    box-shadow: 0 1px 2px rgba(60, 64, 67, 0.3), 0 1px 3px 1px rgba(60, 64, 67, 0.15);\n",
              "    fill: var(--button-hover-fill-color);\n",
              "  }\n",
              "\n",
              "  .colab-df-quickchart-complete:disabled,\n",
              "  .colab-df-quickchart-complete:disabled:hover {\n",
              "    background-color: var(--disabled-bg-color);\n",
              "    fill: var(--disabled-fill-color);\n",
              "    box-shadow: none;\n",
              "  }\n",
              "\n",
              "  .colab-df-spinner {\n",
              "    border: 2px solid var(--fill-color);\n",
              "    border-color: transparent;\n",
              "    border-bottom-color: var(--fill-color);\n",
              "    animation:\n",
              "      spin 1s steps(1) infinite;\n",
              "  }\n",
              "\n",
              "  @keyframes spin {\n",
              "    0% {\n",
              "      border-color: transparent;\n",
              "      border-bottom-color: var(--fill-color);\n",
              "      border-left-color: var(--fill-color);\n",
              "    }\n",
              "    20% {\n",
              "      border-color: transparent;\n",
              "      border-left-color: var(--fill-color);\n",
              "      border-top-color: var(--fill-color);\n",
              "    }\n",
              "    30% {\n",
              "      border-color: transparent;\n",
              "      border-left-color: var(--fill-color);\n",
              "      border-top-color: var(--fill-color);\n",
              "      border-right-color: var(--fill-color);\n",
              "    }\n",
              "    40% {\n",
              "      border-color: transparent;\n",
              "      border-right-color: var(--fill-color);\n",
              "      border-top-color: var(--fill-color);\n",
              "    }\n",
              "    60% {\n",
              "      border-color: transparent;\n",
              "      border-right-color: var(--fill-color);\n",
              "    }\n",
              "    80% {\n",
              "      border-color: transparent;\n",
              "      border-right-color: var(--fill-color);\n",
              "      border-bottom-color: var(--fill-color);\n",
              "    }\n",
              "    90% {\n",
              "      border-color: transparent;\n",
              "      border-bottom-color: var(--fill-color);\n",
              "    }\n",
              "  }\n",
              "</style>\n",
              "\n",
              "  <script>\n",
              "    async function quickchart(key) {\n",
              "      const quickchartButtonEl =\n",
              "        document.querySelector('#' + key + ' button');\n",
              "      quickchartButtonEl.disabled = true;  // To prevent multiple clicks.\n",
              "      quickchartButtonEl.classList.add('colab-df-spinner');\n",
              "      try {\n",
              "        const charts = await google.colab.kernel.invokeFunction(\n",
              "            'suggestCharts', [key], {});\n",
              "      } catch (error) {\n",
              "        console.error('Error during call to suggestCharts:', error);\n",
              "      }\n",
              "      quickchartButtonEl.classList.remove('colab-df-spinner');\n",
              "      quickchartButtonEl.classList.add('colab-df-quickchart-complete');\n",
              "    }\n",
              "    (() => {\n",
              "      let quickchartButtonEl =\n",
              "        document.querySelector('#df-3566a541-e737-4c61-9213-652ecedaafe5 button');\n",
              "      quickchartButtonEl.style.display =\n",
              "        google.colab.kernel.accessAllowed ? 'block' : 'none';\n",
              "    })();\n",
              "  </script>\n",
              "</div>\n",
              "\n",
              "  <div id=\"id_46b9f135-4999-4e15-9a86-906ae5c5239c\">\n",
              "    <style>\n",
              "      .colab-df-generate {\n",
              "        background-color: #E8F0FE;\n",
              "        border: none;\n",
              "        border-radius: 50%;\n",
              "        cursor: pointer;\n",
              "        display: none;\n",
              "        fill: #1967D2;\n",
              "        height: 32px;\n",
              "        padding: 0 0 0 0;\n",
              "        width: 32px;\n",
              "      }\n",
              "\n",
              "      .colab-df-generate:hover {\n",
              "        background-color: #E2EBFA;\n",
              "        box-shadow: 0px 1px 2px rgba(60, 64, 67, 0.3), 0px 1px 3px 1px rgba(60, 64, 67, 0.15);\n",
              "        fill: #174EA6;\n",
              "      }\n",
              "\n",
              "      [theme=dark] .colab-df-generate {\n",
              "        background-color: #3B4455;\n",
              "        fill: #D2E3FC;\n",
              "      }\n",
              "\n",
              "      [theme=dark] .colab-df-generate:hover {\n",
              "        background-color: #434B5C;\n",
              "        box-shadow: 0px 1px 3px 1px rgba(0, 0, 0, 0.15);\n",
              "        filter: drop-shadow(0px 1px 2px rgba(0, 0, 0, 0.3));\n",
              "        fill: #FFFFFF;\n",
              "      }\n",
              "    </style>\n",
              "    <button class=\"colab-df-generate\" onclick=\"generateWithVariable('df')\"\n",
              "            title=\"Generate code using this dataframe.\"\n",
              "            style=\"display:none;\">\n",
              "\n",
              "  <svg xmlns=\"http://www.w3.org/2000/svg\" height=\"24px\"viewBox=\"0 0 24 24\"\n",
              "       width=\"24px\">\n",
              "    <path d=\"M7,19H8.4L18.45,9,17,7.55,7,17.6ZM5,21V16.75L18.45,3.32a2,2,0,0,1,2.83,0l1.4,1.43a1.91,1.91,0,0,1,.58,1.4,1.91,1.91,0,0,1-.58,1.4L9.25,21ZM18.45,9,17,7.55Zm-12,3A5.31,5.31,0,0,0,4.9,8.1,5.31,5.31,0,0,0,1,6.5,5.31,5.31,0,0,0,4.9,4.9,5.31,5.31,0,0,0,6.5,1,5.31,5.31,0,0,0,8.1,4.9,5.31,5.31,0,0,0,12,6.5,5.46,5.46,0,0,0,6.5,12Z\"/>\n",
              "  </svg>\n",
              "    </button>\n",
              "    <script>\n",
              "      (() => {\n",
              "      const buttonEl =\n",
              "        document.querySelector('#id_46b9f135-4999-4e15-9a86-906ae5c5239c button.colab-df-generate');\n",
              "      buttonEl.style.display =\n",
              "        google.colab.kernel.accessAllowed ? 'block' : 'none';\n",
              "\n",
              "      buttonEl.onclick = () => {\n",
              "        google.colab.notebook.generateWithVariable('df');\n",
              "      }\n",
              "      })();\n",
              "    </script>\n",
              "  </div>\n",
              "\n",
              "    </div>\n",
              "  </div>\n"
            ]
          },
          "metadata": {},
          "execution_count": 335
        }
      ]
    }
  ]
}